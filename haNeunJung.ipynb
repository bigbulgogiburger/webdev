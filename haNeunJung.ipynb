{
  "nbformat": 4,
  "nbformat_minor": 0,
  "metadata": {
    "colab": {
      "name": "haNeunJung.ipynb",
      "provenance": [],
      "collapsed_sections": [],
      "authorship_tag": "ABX9TyN4BHGnq374YJeUVmjG/tBD",
      "include_colab_link": true
    },
    "kernelspec": {
      "name": "python3",
      "display_name": "Python 3"
    }
  },
  "cells": [
    {
      "cell_type": "markdown",
      "metadata": {
        "id": "view-in-github",
        "colab_type": "text"
      },
      "source": [
        "<a href=\"https://colab.research.google.com/github/bigbulgogiburger/webdev/blob/main/haNeunJung.ipynb\" target=\"_parent\"><img src=\"https://colab.research.google.com/assets/colab-badge.svg\" alt=\"Open In Colab\"/></a>"
      ]
    },
    {
      "cell_type": "code",
      "metadata": {
        "id": "vUs9Et-0hUm9"
      },
      "source": [
        "#넘파이 판다스 임포트\r\n",
        "import numpy as np\r\n",
        "import pandas as pd"
      ],
      "execution_count": null,
      "outputs": []
    },
    {
      "cell_type": "code",
      "metadata": {
        "id": "UzeZuzhUiOYE"
      },
      "source": [
        "#기타 등등 머신러닝 툴 임포트\r\n",
        "from sklearn.linear_model import LogisticRegression\r\n",
        "from sklearn.linear_model import Ridge\r\n",
        "from sklearn.linear_model import Lasso\r\n",
        "from sklearn.neighbors import KNeighborsClassifier\r\n",
        "from sklearn.preprocessing import StandardScaler\r\n",
        "from sklearn.tree import DecisionTreeClassifier\r\n",
        "from sklearn.model_selection import cross_validate\r\n",
        "from sklearn.model_selection import GridSearchCV\r\n",
        "from sklearn.model_selection import train_test_split\r\n"
      ],
      "execution_count": null,
      "outputs": []
    },
    {
      "cell_type": "code",
      "metadata": {
        "id": "gcCDVxQnvDKm"
      },
      "source": [
        "from sklearn.neighbors import KNeighborsRegressor"
      ],
      "execution_count": null,
      "outputs": []
    },
    {
      "cell_type": "code",
      "metadata": {
        "id": "Gh0LHkowwbSD"
      },
      "source": [
        "from sklearn.linear_model import LinearRegression"
      ],
      "execution_count": null,
      "outputs": []
    },
    {
      "cell_type": "code",
      "metadata": {
        "id": "QoruqoYKpoND"
      },
      "source": [
        "from sklearn.datasets import load_wine"
      ],
      "execution_count": null,
      "outputs": []
    },
    {
      "cell_type": "code",
      "metadata": {
        "id": "nuspShp_CB7r"
      },
      "source": [
        "from sklearn.preprocessing import PolynomialFeatures"
      ],
      "execution_count": null,
      "outputs": []
    },
    {
      "cell_type": "code",
      "metadata": {
        "id": "VZurRG4qbt6Z"
      },
      "source": [
        "from sklearn.linear_model import SGDClassifier"
      ],
      "execution_count": null,
      "outputs": []
    },
    {
      "cell_type": "code",
      "metadata": {
        "id": "0a8My_O9bysh"
      },
      "source": [
        ""
      ],
      "execution_count": null,
      "outputs": []
    },
    {
      "cell_type": "code",
      "metadata": {
        "id": "UZtqkoTGp3Z1"
      },
      "source": [
        "#최근접 이웃 사용하기"
      ],
      "execution_count": null,
      "outputs": []
    },
    {
      "cell_type": "code",
      "metadata": {
        "id": "OddqCR_sp8Xt"
      },
      "source": [
        "wine = load_wine()"
      ],
      "execution_count": null,
      "outputs": []
    },
    {
      "cell_type": "code",
      "metadata": {
        "id": "b1LAwwDmqA8V"
      },
      "source": [
        "data = wine.data\r\n",
        "target= wine.target"
      ],
      "execution_count": null,
      "outputs": []
    },
    {
      "cell_type": "code",
      "metadata": {
        "id": "SkYFG4T_qYGE"
      },
      "source": [
        "train_data,test_data,train_target,test_target = train_test_split(data,target)"
      ],
      "execution_count": null,
      "outputs": []
    },
    {
      "cell_type": "code",
      "metadata": {
        "id": "2LaVOepyqgUs"
      },
      "source": [
        "kn = KNeighborsClassifier()"
      ],
      "execution_count": null,
      "outputs": []
    },
    {
      "cell_type": "code",
      "metadata": {
        "colab": {
          "base_uri": "https://localhost:8080/"
        },
        "id": "VQIQ9fPJqiyB",
        "outputId": "b4cd6c0c-50dc-4fc3-8062-18198c3098c5"
      },
      "source": [
        "kn.fit(train_data,train_target)"
      ],
      "execution_count": null,
      "outputs": [
        {
          "output_type": "execute_result",
          "data": {
            "text/plain": [
              "KNeighborsClassifier(algorithm='auto', leaf_size=30, metric='minkowski',\n",
              "                     metric_params=None, n_jobs=None, n_neighbors=5, p=2,\n",
              "                     weights='uniform')"
            ]
          },
          "metadata": {
            "tags": []
          },
          "execution_count": 13
        }
      ]
    },
    {
      "cell_type": "code",
      "metadata": {
        "colab": {
          "base_uri": "https://localhost:8080/"
        },
        "id": "UsG_25YBqpjH",
        "outputId": "89ee73a7-c78a-4c69-aa4c-9bf00b01338f"
      },
      "source": [
        "kn.score(test_data,test_target)"
      ],
      "execution_count": null,
      "outputs": [
        {
          "output_type": "execute_result",
          "data": {
            "text/plain": [
              "0.6666666666666666"
            ]
          },
          "metadata": {
            "tags": []
          },
          "execution_count": 14
        }
      ]
    },
    {
      "cell_type": "markdown",
      "metadata": {
        "id": "vTYatI7_quIr"
      },
      "source": [
        "최근접이웃은 굉장히 낮게 나온다."
      ]
    },
    {
      "cell_type": "code",
      "metadata": {
        "id": "wxlsSI_zqzNq"
      },
      "source": [
        "kn10 = KNeighborsClassifier(n_neighbors=10)"
      ],
      "execution_count": null,
      "outputs": []
    },
    {
      "cell_type": "code",
      "metadata": {
        "colab": {
          "base_uri": "https://localhost:8080/"
        },
        "id": "6HLcYLtPtByW",
        "outputId": "f09267ff-f864-4ec9-d618-56bdd1f5d2a3"
      },
      "source": [
        "kn10.fit(train_data,train_target)"
      ],
      "execution_count": null,
      "outputs": [
        {
          "output_type": "execute_result",
          "data": {
            "text/plain": [
              "KNeighborsClassifier(algorithm='auto', leaf_size=30, metric='minkowski',\n",
              "                     metric_params=None, n_jobs=None, n_neighbors=10, p=2,\n",
              "                     weights='uniform')"
            ]
          },
          "metadata": {
            "tags": []
          },
          "execution_count": 16
        }
      ]
    },
    {
      "cell_type": "code",
      "metadata": {
        "colab": {
          "base_uri": "https://localhost:8080/"
        },
        "id": "F90Tv8EptHkl",
        "outputId": "67004a42-76bb-49fb-a47d-5717b3bb62d1"
      },
      "source": [
        "kn10.score(test_data,test_target)"
      ],
      "execution_count": null,
      "outputs": [
        {
          "output_type": "execute_result",
          "data": {
            "text/plain": [
              "0.6444444444444445"
            ]
          },
          "metadata": {
            "tags": []
          },
          "execution_count": 17
        }
      ]
    },
    {
      "cell_type": "markdown",
      "metadata": {
        "id": "wPXMx0DKtgYW"
      },
      "source": [
        "최근접이웃을 10개로 늘리니 71퍼센트 정도로 올라갔다. 아마도 여러개의 인자를 동일하게 평가하는 듯하다."
      ]
    },
    {
      "cell_type": "code",
      "metadata": {
        "id": "wUL12pnqtqX5"
      },
      "source": [
        "ss = StandardScaler()"
      ],
      "execution_count": null,
      "outputs": []
    },
    {
      "cell_type": "code",
      "metadata": {
        "colab": {
          "base_uri": "https://localhost:8080/"
        },
        "id": "d6swbp11t02l",
        "outputId": "49639fe5-e101-4e47-e34e-99d8848b1160"
      },
      "source": [
        "ss.fit(train_data)"
      ],
      "execution_count": null,
      "outputs": [
        {
          "output_type": "execute_result",
          "data": {
            "text/plain": [
              "StandardScaler(copy=True, with_mean=True, with_std=True)"
            ]
          },
          "metadata": {
            "tags": []
          },
          "execution_count": 19
        }
      ]
    },
    {
      "cell_type": "code",
      "metadata": {
        "id": "BdhZRAzot8oN"
      },
      "source": [
        "scaled_train_data = ss.transform(train_data)\r\n",
        "scaled_test_data = ss.transform(test_data)"
      ],
      "execution_count": null,
      "outputs": []
    },
    {
      "cell_type": "code",
      "metadata": {
        "colab": {
          "base_uri": "https://localhost:8080/"
        },
        "id": "ckoj5ms8uJC4",
        "outputId": "c0f65445-ffe1-4534-e63f-f0c32d8cb000"
      },
      "source": [
        "kn10.fit(scaled_train_data,train_target )"
      ],
      "execution_count": null,
      "outputs": [
        {
          "output_type": "execute_result",
          "data": {
            "text/plain": [
              "KNeighborsClassifier(algorithm='auto', leaf_size=30, metric='minkowski',\n",
              "                     metric_params=None, n_jobs=None, n_neighbors=10, p=2,\n",
              "                     weights='uniform')"
            ]
          },
          "metadata": {
            "tags": []
          },
          "execution_count": 21
        }
      ]
    },
    {
      "cell_type": "code",
      "metadata": {
        "colab": {
          "base_uri": "https://localhost:8080/"
        },
        "id": "IC6CqDkmuN-y",
        "outputId": "1b3e77b9-36fa-4582-e0ae-b3d926416e64"
      },
      "source": [
        "kn10.score(scaled_test_data,test_target)"
      ],
      "execution_count": null,
      "outputs": [
        {
          "output_type": "execute_result",
          "data": {
            "text/plain": [
              "0.8222222222222222"
            ]
          },
          "metadata": {
            "tags": []
          },
          "execution_count": 22
        }
      ]
    },
    {
      "cell_type": "markdown",
      "metadata": {
        "id": "l2ZoyQH_uYPr"
      },
      "source": [
        "scaled(범위설정)을 하고 나니 score가 97.7로 올랐다. pH같이 log값에 의존하는 원소는 다른 원소들에 비해 범위가 짧기 때문에 스케일링을 하지 않으면 분류하기에 어려움이 있다."
      ]
    },
    {
      "cell_type": "code",
      "metadata": {
        "id": "w-UWhrAUuVlx"
      },
      "source": [
        "knr = KNeighborsRegressor()"
      ],
      "execution_count": null,
      "outputs": []
    },
    {
      "cell_type": "code",
      "metadata": {
        "colab": {
          "base_uri": "https://localhost:8080/"
        },
        "id": "myvDz4vwvK4j",
        "outputId": "b92a8ef4-45dc-48e4-a050-9d2a15deb358"
      },
      "source": [
        "knr.fit(scaled_train_data,train_target)"
      ],
      "execution_count": null,
      "outputs": [
        {
          "output_type": "execute_result",
          "data": {
            "text/plain": [
              "KNeighborsRegressor(algorithm='auto', leaf_size=30, metric='minkowski',\n",
              "                    metric_params=None, n_jobs=None, n_neighbors=5, p=2,\n",
              "                    weights='uniform')"
            ]
          },
          "metadata": {
            "tags": []
          },
          "execution_count": 24
        }
      ]
    },
    {
      "cell_type": "code",
      "metadata": {
        "colab": {
          "base_uri": "https://localhost:8080/"
        },
        "id": "MIGcxzFSvOXB",
        "outputId": "d1557999-4f54-4917-bbe7-4f968de12497"
      },
      "source": [
        "knr.score(scaled_test_data,test_target)"
      ],
      "execution_count": null,
      "outputs": [
        {
          "output_type": "execute_result",
          "data": {
            "text/plain": [
              "0.8363636363636363"
            ]
          },
          "metadata": {
            "tags": []
          },
          "execution_count": 25
        }
      ]
    },
    {
      "cell_type": "markdown",
      "metadata": {
        "id": "7qHbBkqbvXn7"
      },
      "source": [
        "k-최근접이웃 회귀에서는 95.8을 맞았다. 이 점수는 결정계수인 r^2을 의미한다."
      ]
    },
    {
      "cell_type": "code",
      "metadata": {
        "colab": {
          "base_uri": "https://localhost:8080/"
        },
        "id": "8tyRm8dBvTVF",
        "outputId": "2eb93276-5408-4480-b6e1-c06a3483f0b8"
      },
      "source": [
        "knr.score(scaled_train_data,train_target)"
      ],
      "execution_count": null,
      "outputs": [
        {
          "output_type": "execute_result",
          "data": {
            "text/plain": [
              "0.9784655013799447"
            ]
          },
          "metadata": {
            "tags": []
          },
          "execution_count": 26
        }
      ]
    },
    {
      "cell_type": "markdown",
      "metadata": {
        "id": "5n4AVD5pv0eM"
      },
      "source": [
        "k-최근접이웃 회귀에서 딱히 과대적합 과소적합이 일어나진 않았다."
      ]
    },
    {
      "cell_type": "code",
      "metadata": {
        "id": "tjxGy8KNvzHu"
      },
      "source": [
        "#여기서부터는 선형 회귀"
      ],
      "execution_count": null,
      "outputs": []
    },
    {
      "cell_type": "code",
      "metadata": {
        "id": "Qkq_7i2_wizR"
      },
      "source": [
        "lr = LinearRegression()"
      ],
      "execution_count": null,
      "outputs": []
    },
    {
      "cell_type": "code",
      "metadata": {
        "colab": {
          "base_uri": "https://localhost:8080/"
        },
        "id": "DkyAT3V9wv0v",
        "outputId": "3055f437-7b4d-4e47-939d-4e12372593cb"
      },
      "source": [
        "lr.fit(train_data,train_target)"
      ],
      "execution_count": null,
      "outputs": [
        {
          "output_type": "execute_result",
          "data": {
            "text/plain": [
              "LinearRegression(copy_X=True, fit_intercept=True, n_jobs=None, normalize=False)"
            ]
          },
          "metadata": {
            "tags": []
          },
          "execution_count": 29
        }
      ]
    },
    {
      "cell_type": "code",
      "metadata": {
        "colab": {
          "base_uri": "https://localhost:8080/"
        },
        "id": "zMHTl--ww4-9",
        "outputId": "c27a044b-92fc-4875-e031-525d1ef955dd"
      },
      "source": [
        "lr.score(test_data,test_target)"
      ],
      "execution_count": null,
      "outputs": [
        {
          "output_type": "execute_result",
          "data": {
            "text/plain": [
              "0.8432327887528424"
            ]
          },
          "metadata": {
            "tags": []
          },
          "execution_count": 30
        }
      ]
    },
    {
      "cell_type": "markdown",
      "metadata": {
        "id": "wlkf28czw-X2"
      },
      "source": [
        "선형회귀가 또 88퍼밖에 나오지 않았다. 이론상으로 scaling을 하더라도 같은 점수가 나와야하는데 그럴까"
      ]
    },
    {
      "cell_type": "code",
      "metadata": {
        "colab": {
          "base_uri": "https://localhost:8080/"
        },
        "id": "8je8Nvilw9Jp",
        "outputId": "4529ea62-cd49-465e-cf20-970d40a76ceb"
      },
      "source": [
        "lr.fit(scaled_train_data,train_target)"
      ],
      "execution_count": null,
      "outputs": [
        {
          "output_type": "execute_result",
          "data": {
            "text/plain": [
              "LinearRegression(copy_X=True, fit_intercept=True, n_jobs=None, normalize=False)"
            ]
          },
          "metadata": {
            "tags": []
          },
          "execution_count": 31
        }
      ]
    },
    {
      "cell_type": "code",
      "metadata": {
        "colab": {
          "base_uri": "https://localhost:8080/"
        },
        "id": "XBzCVZSQxJhK",
        "outputId": "77fb1643-1a57-40c9-d153-211bc1000f70"
      },
      "source": [
        "lr.score(scaled_test_data,test_target)"
      ],
      "execution_count": null,
      "outputs": [
        {
          "output_type": "execute_result",
          "data": {
            "text/plain": [
              "0.8432327887528428"
            ]
          },
          "metadata": {
            "tags": []
          },
          "execution_count": 32
        }
      ]
    },
    {
      "cell_type": "markdown",
      "metadata": {
        "id": "aRTBMlquxPXh"
      },
      "source": [
        "역시 scaled data에서도 같은점수가 나왔다. 선형인 방정식을 그리는 선형회귀알고리즘에서는 상대적 크기는 별로 중요하지 않다."
      ]
    },
    {
      "cell_type": "code",
      "metadata": {
        "id": "5lvUxjWtxdv4"
      },
      "source": [
        "train_poly =np.column_stack((train_data**2,train_data))"
      ],
      "execution_count": null,
      "outputs": []
    },
    {
      "cell_type": "code",
      "metadata": {
        "id": "3uFsl8u7U2Q9"
      },
      "source": [
        "test_poly =np.column_stack((test_data**2,test_data))"
      ],
      "execution_count": null,
      "outputs": []
    },
    {
      "cell_type": "code",
      "metadata": {
        "colab": {
          "base_uri": "https://localhost:8080/"
        },
        "id": "PwZzhElFU6Pg",
        "outputId": "da45090f-3526-4358-f1a5-bbd6333f7067"
      },
      "source": [
        "lr.fit(train_poly,train_target)"
      ],
      "execution_count": null,
      "outputs": [
        {
          "output_type": "execute_result",
          "data": {
            "text/plain": [
              "LinearRegression(copy_X=True, fit_intercept=True, n_jobs=None, normalize=False)"
            ]
          },
          "metadata": {
            "tags": []
          },
          "execution_count": 35
        }
      ]
    },
    {
      "cell_type": "code",
      "metadata": {
        "colab": {
          "base_uri": "https://localhost:8080/"
        },
        "id": "EjvdMHi7U-5A",
        "outputId": "aa21e942-8b54-45e0-bc27-d55321a9bb0a"
      },
      "source": [
        "print(lr.score(train_poly,train_target))\r\n",
        "print(lr.score(test_poly,test_target))"
      ],
      "execution_count": null,
      "outputs": [
        {
          "output_type": "stream",
          "text": [
            "0.9443549890771383\n",
            "0.8502101183601005\n"
          ],
          "name": "stdout"
        }
      ]
    },
    {
      "cell_type": "markdown",
      "metadata": {
        "id": "M-OvqGfZt-oP"
      },
      "source": [
        "2차식으로 늘리면 훈련 93퍼 검증 90퍼가 된다. 항이 많아서 과대적합이 되는 것 같음..."
      ]
    },
    {
      "cell_type": "code",
      "metadata": {
        "id": "n2Tcc9CZuSpR"
      },
      "source": [
        "train_poly =np.column_stack((train_data**3,train_data**2,train_data))\r\n",
        "test_poly =np.column_stack((test_data**3,test_data**2,test_data))"
      ],
      "execution_count": null,
      "outputs": []
    },
    {
      "cell_type": "code",
      "metadata": {
        "colab": {
          "base_uri": "https://localhost:8080/"
        },
        "id": "x3AauiCy_qi-",
        "outputId": "d8f68965-39ce-4d2b-d7c0-1b567d1b2fd6"
      },
      "source": [
        "lr.fit(train_poly, train_target)"
      ],
      "execution_count": null,
      "outputs": [
        {
          "output_type": "execute_result",
          "data": {
            "text/plain": [
              "LinearRegression(copy_X=True, fit_intercept=True, n_jobs=None, normalize=False)"
            ]
          },
          "metadata": {
            "tags": []
          },
          "execution_count": 38
        }
      ]
    },
    {
      "cell_type": "code",
      "metadata": {
        "colab": {
          "base_uri": "https://localhost:8080/"
        },
        "id": "r9BKcLssuduj",
        "outputId": "dd14c6a2-0baf-4dac-d24b-ac934f8ca01a"
      },
      "source": [
        "print(lr.score(train_poly,train_target))\r\n",
        "print(lr.score(test_poly,test_target))"
      ],
      "execution_count": null,
      "outputs": [
        {
          "output_type": "stream",
          "text": [
            "0.9555543500286852\n",
            "0.8182006687312102\n"
          ],
          "name": "stdout"
        }
      ]
    },
    {
      "cell_type": "markdown",
      "metadata": {
        "id": "cbClBXob_31d"
      },
      "source": [
        "3차식까지 쓴 결과 차수가 높으면 높을수록 과대적합이 된다는 것을 확인할 수 있다.\r\n"
      ]
    },
    {
      "cell_type": "code",
      "metadata": {
        "colab": {
          "base_uri": "https://localhost:8080/"
        },
        "id": "SbAXBIyC_6Rx",
        "outputId": "a52f92de-48c2-4994-f3d4-2b31293f0758"
      },
      "source": [
        "print(lr.coef_,lr.intercept_)"
      ],
      "execution_count": null,
      "outputs": [
        {
          "output_type": "stream",
          "text": [
            "[ 1.79052615e-02  9.10912820e-03  1.74258336e-01 -4.08149841e-05\n",
            " -2.75245316e-06  1.64653172e-01 -2.55591272e-02  5.69963038e+00\n",
            "  6.73382376e-02  2.45827104e-03 -3.50302585e-01 -1.01556336e-01\n",
            "  1.05497911e-09 -6.54005290e-01 -9.45539517e-02 -1.44977589e+00\n",
            "  1.21187818e-03  8.83664528e-04 -1.22227666e+00  3.73452051e-01\n",
            " -6.78447364e+00 -4.29027643e-01 -5.02938475e-02  1.40588978e+00\n",
            "  8.35729949e-01 -2.47088942e-06  7.79652938e+00  2.92967004e-01\n",
            "  3.73815335e+00  3.83915516e-02 -9.33223708e-02  2.92658698e+00\n",
            " -1.64198552e+00  1.63645229e+00  8.82225205e-01  3.51236304e-01\n",
            " -1.74703397e+00 -2.33935118e+00  8.30771290e-04] -28.760282060469443\n"
          ],
          "name": "stdout"
        }
      ]
    },
    {
      "cell_type": "markdown",
      "metadata": {
        "id": "i0GuVlHTB0CU"
      },
      "source": [
        "독립변수의 계수와 y절편값"
      ]
    },
    {
      "cell_type": "code",
      "metadata": {
        "colab": {
          "base_uri": "https://localhost:8080/"
        },
        "id": "0QNlxuzvBnza",
        "outputId": "a767b13a-88b6-45aa-a70d-d8ee58c61ba2"
      },
      "source": [
        "#다항이긴 한데 다항 변환기에 넣어서 변수 갯수를 무리하게 늘리는 모습이다.. \r\n",
        "poly = PolynomialFeatures()\r\n",
        "poly.fit(train_data)"
      ],
      "execution_count": null,
      "outputs": [
        {
          "output_type": "execute_result",
          "data": {
            "text/plain": [
              "PolynomialFeatures(degree=2, include_bias=True, interaction_only=False,\n",
              "                   order='C')"
            ]
          },
          "metadata": {
            "tags": []
          },
          "execution_count": 41
        }
      ]
    },
    {
      "cell_type": "code",
      "metadata": {
        "id": "B0GBNvC2Cfbi"
      },
      "source": [
        "train_poly = poly.transform(train_data)"
      ],
      "execution_count": null,
      "outputs": []
    },
    {
      "cell_type": "code",
      "metadata": {
        "id": "JuLlvz0xCwk1"
      },
      "source": [
        "test_poly = poly.transform(test_data)"
      ],
      "execution_count": null,
      "outputs": []
    },
    {
      "cell_type": "code",
      "metadata": {
        "colab": {
          "base_uri": "https://localhost:8080/"
        },
        "id": "2fUCV2otCzyi",
        "outputId": "785045b6-952d-47a7-da94-fde104625ad6"
      },
      "source": [
        "train_poly.shape"
      ],
      "execution_count": null,
      "outputs": [
        {
          "output_type": "execute_result",
          "data": {
            "text/plain": [
              "(133, 105)"
            ]
          },
          "metadata": {
            "tags": []
          },
          "execution_count": 44
        }
      ]
    },
    {
      "cell_type": "code",
      "metadata": {
        "colab": {
          "base_uri": "https://localhost:8080/"
        },
        "id": "YKVHHTJpC3YW",
        "outputId": "739e7066-bbbb-4e42-d7d1-2cd3a85ecd8b"
      },
      "source": [
        "lr.fit(train_poly,train_target)"
      ],
      "execution_count": null,
      "outputs": [
        {
          "output_type": "execute_result",
          "data": {
            "text/plain": [
              "LinearRegression(copy_X=True, fit_intercept=True, n_jobs=None, normalize=False)"
            ]
          },
          "metadata": {
            "tags": []
          },
          "execution_count": 45
        }
      ]
    },
    {
      "cell_type": "code",
      "metadata": {
        "colab": {
          "base_uri": "https://localhost:8080/"
        },
        "id": "LVt6vQhMC7_y",
        "outputId": "4d199962-44ae-49c0-8da5-50c953323ef4"
      },
      "source": [
        "print(lr.score(train_poly,train_target))\r\n",
        "print(lr.score(test_poly,test_target))"
      ],
      "execution_count": null,
      "outputs": [
        {
          "output_type": "stream",
          "text": [
            "0.932686745660279\n",
            "0.21596324201647066\n"
          ],
          "name": "stdout"
        }
      ]
    },
    {
      "cell_type": "markdown",
      "metadata": {
        "id": "rNgifp8UDAuQ"
      },
      "source": [
        "훨씬 과대 적합됨 ㅋㅋㅋ 안그래도 다항인데 다항 전처리를 해서 변수가 급격하게 늘어나다보니 train_set에서만 잘 맞춰지는 그래프를 그린것 같다."
      ]
    },
    {
      "cell_type": "code",
      "metadata": {
        "id": "F7__twkSC-qq"
      },
      "source": [
        "#릿지회귀"
      ],
      "execution_count": null,
      "outputs": []
    },
    {
      "cell_type": "code",
      "metadata": {
        "id": "m9S6prT03Imx"
      },
      "source": [
        "ridge= Ridge()"
      ],
      "execution_count": null,
      "outputs": []
    },
    {
      "cell_type": "code",
      "metadata": {
        "colab": {
          "base_uri": "https://localhost:8080/"
        },
        "id": "AzXp1gqb3dIr",
        "outputId": "b8345d02-ce19-42bb-a1e5-848873de0670"
      },
      "source": [
        "ridge.fit(scaled_train_data,train_target)"
      ],
      "execution_count": null,
      "outputs": [
        {
          "output_type": "execute_result",
          "data": {
            "text/plain": [
              "Ridge(alpha=1.0, copy_X=True, fit_intercept=True, max_iter=None,\n",
              "      normalize=False, random_state=None, solver='auto', tol=0.001)"
            ]
          },
          "metadata": {
            "tags": []
          },
          "execution_count": 49
        }
      ]
    },
    {
      "cell_type": "code",
      "metadata": {
        "colab": {
          "base_uri": "https://localhost:8080/"
        },
        "id": "ErkYnVoF4ZL7",
        "outputId": "81a691bb-6464-4d39-f3b9-299980716761"
      },
      "source": [
        "#ridge의 alpha값은 변경하지 않는이상 1로 고정되어 있다.(하이퍼 파라미터)\r\n",
        "print(ridge.score(scaled_train_data,train_target))\r\n",
        "print(ridge.score(scaled_test_data,test_target))\r\n",
        "#점수가 그리 높지 않다. alpha값을 변경하면서 테스트해보자."
      ],
      "execution_count": null,
      "outputs": [
        {
          "output_type": "stream",
          "text": [
            "0.9120854537232597\n",
            "0.8427648613896839\n"
          ],
          "name": "stdout"
        }
      ]
    },
    {
      "cell_type": "code",
      "metadata": {
        "id": "j65OsMcy4jR9"
      },
      "source": [
        "train_score = []\r\n",
        "test_score = []\r\n",
        "alpha_list = [0.001,0.01,0.1,1,10,100]"
      ],
      "execution_count": null,
      "outputs": []
    },
    {
      "cell_type": "code",
      "metadata": {
        "id": "gdU0Lp5O5LtP"
      },
      "source": [
        "for alpha in alpha_list:\r\n",
        "  #릿지 만들면서 알파값 지정\r\n",
        "  ridge = Ridge(alpha=alpha)\r\n",
        "  ridge.fit(scaled_train_data,train_target)\r\n",
        "  train_score.append(ridge.score(scaled_train_data,train_target))\r\n",
        "  test_score.append(ridge.score(scaled_test_data,test_target))"
      ],
      "execution_count": null,
      "outputs": []
    },
    {
      "cell_type": "code",
      "metadata": {
        "id": "kaPC7STf5m3g"
      },
      "source": [
        "import matplotlib.pyplot as plt"
      ],
      "execution_count": null,
      "outputs": []
    },
    {
      "cell_type": "code",
      "metadata": {
        "colab": {
          "base_uri": "https://localhost:8080/",
          "height": 279
        },
        "id": "iwlpi09w54vA",
        "outputId": "fcd9f709-919d-4365-ee16-c92c1ed9d0ba"
      },
      "source": [
        "plt.plot(np.log10(alpha_list),train_score)\r\n",
        "plt.plot(np.log10(alpha_list),test_score)\r\n",
        "plt.xlabel('alpha')\r\n",
        "plt.ylabel('R^2')\r\n",
        "plt.show()\r\n",
        "#alpha value가 0.0001~1까지 일정한 것을 볼 수 있다. "
      ],
      "execution_count": null,
      "outputs": [
        {
          "output_type": "display_data",
          "data": {
            "image/png": "[encoded data removed]",
            "text/plain": [
              "<Figure size 432x288 with 1 Axes>"
            ]
          },
          "metadata": {
            "tags": [],
            "needs_background": "light"
          }
        }
      ]
    },
    {
      "cell_type": "code",
      "metadata": {
        "colab": {
          "base_uri": "https://localhost:8080/"
        },
        "id": "85haLA9g6fPD",
        "outputId": "0c5745d5-d1f0-414b-8aa9-2ca82f3919b1"
      },
      "source": [
        "for a,b,c in zip(alpha_list,train_score,test_score):\r\n",
        "  print('alpha_Value : ',a,', train_score : ',b,', test_score : ',c)\r\n",
        "#값이 1까지는 다 비슷비슷"
      ],
      "execution_count": null,
      "outputs": [
        {
          "output_type": "stream",
          "text": [
            "alpha_Value :  0.001 , train_score :  0.9121657419429596 , test_score :  0.8432323696571855\n",
            "alpha_Value :  0.01 , train_score :  0.9121657331055637 , test_score :  0.8432285927767883\n",
            "alpha_Value :  0.1 , train_score :  0.9121648582130596 , test_score :  0.8431903338024711\n",
            "alpha_Value :  1 , train_score :  0.9120854537232597 , test_score :  0.8427648613896839\n",
            "alpha_Value :  10 , train_score :  0.9082135856729554 , test_score :  0.8371526091647161\n",
            "alpha_Value :  100 , train_score :  0.8606134803468871 , test_score :  0.802209231545109\n"
          ],
          "name": "stdout"
        }
      ]
    },
    {
      "cell_type": "code",
      "metadata": {
        "id": "3tW7sXL_7LqX"
      },
      "source": [
        "#라쏘도 alpha_value 조정해가며 최상의 값을 찾아보자\r\n",
        "train_score = []\r\n",
        "test_score = []\r\n",
        "alpha_list = [0.001,0.01,0.1,1,10,100]\r\n",
        "for alpha in alpha_list:\r\n",
        "  #라쏘 만들면서 알파값 지정\r\n",
        "  lasso = Lasso(alpha=alpha)\r\n",
        "  lasso.fit(scaled_train_data,train_target)\r\n",
        "  train_score.append(lasso.score(scaled_train_data,train_target))\r\n",
        "  test_score.append(lasso.score(scaled_test_data,test_target))"
      ],
      "execution_count": null,
      "outputs": []
    },
    {
      "cell_type": "code",
      "metadata": {
        "colab": {
          "base_uri": "https://localhost:8080/",
          "height": 279
        },
        "id": "hWd94oa87hWy",
        "outputId": "0225696c-6ab6-4dfc-fc1b-9fb388007ac6"
      },
      "source": [
        "plt.plot(np.log10(alpha_list),train_score)\r\n",
        "plt.plot(np.log10(alpha_list),test_score)\r\n",
        "plt.xlabel('alpha')\r\n",
        "plt.ylabel('R^2')\r\n",
        "plt.show()\r\n",
        "#alpha값이 -3이하일때 좋은걸까,, 좀 더 낮게 계수를 잡기로 했다. 약간 시그모이드의 역함수로 나온 것 같기도 하고.."
      ],
      "execution_count": null,
      "outputs": [
        {
          "output_type": "display_data",
          "data": {
            "image/png": "[encoded data removed]",
            "text/plain": [
              "<Figure size 432x288 with 1 Axes>"
            ]
          },
          "metadata": {
            "tags": [],
            "needs_background": "light"
          }
        }
      ]
    },
    {
      "cell_type": "code",
      "metadata": {
        "id": "eP84802v7tTC"
      },
      "source": [
        "train_score = []\r\n",
        "test_score = []\r\n",
        "alpha_list = [0.00001,0.0001,0.001,0.01,0.1,1,10,100]\r\n",
        "for alpha in alpha_list:\r\n",
        "  #라쏘 만들면서 알파값 지정\r\n",
        "  lasso = Lasso(alpha=alpha)\r\n",
        "  lasso.fit(scaled_train_data,train_target)\r\n",
        "  train_score.append(lasso.score(scaled_train_data,train_target))\r\n",
        "  test_score.append(lasso.score(scaled_test_data,test_target))"
      ],
      "execution_count": null,
      "outputs": []
    },
    {
      "cell_type": "code",
      "metadata": {
        "colab": {
          "base_uri": "https://localhost:8080/",
          "height": 279
        },
        "id": "CHQMag9O74xM",
        "outputId": "cced215b-bfb6-4e54-a634-03bcd1498c10"
      },
      "source": [
        "plt.plot(np.log10(alpha_list),train_score)\r\n",
        "plt.plot(np.log10(alpha_list),test_score)\r\n",
        "plt.xlabel('alpha')\r\n",
        "plt.ylabel('R^2')\r\n",
        "plt.show()\r\n",
        "#낮을수록 과대,과소에서 자유로워 지는 것 같다."
      ],
      "execution_count": null,
      "outputs": [
        {
          "output_type": "display_data",
          "data": {
            "image/png": "[encoded data removed]",
            "text/plain": [
              "<Figure size 432x288 with 1 Axes>"
            ]
          },
          "metadata": {
            "tags": [],
            "needs_background": "light"
          }
        }
      ]
    },
    {
      "cell_type": "code",
      "metadata": {
        "colab": {
          "base_uri": "https://localhost:8080/"
        },
        "id": "08hmpRRP8BkH",
        "outputId": "320103fb-6c14-4170-a74a-7d6c58880cb8"
      },
      "source": [
        "for a,b,c in zip(alpha_list,train_score,test_score):\r\n",
        "  print('alpha_Value : ',a,', train_score : ',b,', test_score : ',c)\r\n",
        "#0.00001일때 가장 좋은건 맞지만 비슷비슷..."
      ],
      "execution_count": null,
      "outputs": [
        {
          "output_type": "stream",
          "text": [
            "alpha_Value :  1e-05 , train_score :  0.9121657372764337 , test_score :  0.843245008565534\n",
            "alpha_Value :  0.0001 , train_score :  0.9121652308434397 , test_score :  0.8433546135310929\n",
            "alpha_Value :  0.001 , train_score :  0.9121141319561525 , test_score :  0.8444089699210386\n",
            "alpha_Value :  0.01 , train_score :  0.9081179474799396 , test_score :  0.84966731602198\n",
            "alpha_Value :  0.1 , train_score :  0.8500459567067947 , test_score :  0.8256348558260539\n",
            "alpha_Value :  1 , train_score :  0.0 , test_score :  -0.008018593990101408\n",
            "alpha_Value :  10 , train_score :  0.0 , test_score :  -0.008018593990101408\n",
            "alpha_Value :  100 , train_score :  0.0 , test_score :  -0.008018593990101408\n"
          ],
          "name": "stdout"
        }
      ]
    },
    {
      "cell_type": "code",
      "metadata": {
        "colab": {
          "base_uri": "https://localhost:8080/"
        },
        "id": "9p7rWyNL8OoG",
        "outputId": "635e8a3e-ceb8-401d-cf3a-e870640559cc"
      },
      "source": [
        "#로지스틱 회귀를 합시다.\r\n",
        "#로지스틱 회귀 자체는 0,1을 분류하기 때문에 지금 target이 3개 클래스라 다중 로지스틱 회귀분석을 진행할 것이다.\r\n",
        "#max_iter = 1000을 고정으로하고 규제를 1, 10, 20, 30, 40, 50으로 점점 풀어줘보겠다.\r\n",
        "C_list = [1,10,20,30,40,50]\r\n",
        "for C in C_list:\r\n",
        "  lr = LogisticRegression(C=C, max_iter=1000)\r\n",
        "  lr.fit(scaled_train_data,train_target)\r\n",
        "  print(lr.score(scaled_train_data,train_target))\r\n",
        "  print(lr.score(scaled_test_data,test_target))\r\n",
        "  #아니 전부 1이..."
      ],
      "execution_count": null,
      "outputs": [
        {
          "output_type": "stream",
          "text": [
            "1.0\n",
            "0.9333333333333333\n",
            "1.0\n",
            "0.8888888888888888\n",
            "1.0\n",
            "0.8888888888888888\n",
            "1.0\n",
            "0.8888888888888888\n",
            "1.0\n",
            "0.8888888888888888\n",
            "1.0\n",
            "0.8888888888888888\n"
          ],
          "name": "stdout"
        }
      ]
    },
    {
      "cell_type": "code",
      "metadata": {
        "id": "IoHAZ_1y-_TQ"
      },
      "source": [
        "proba = lr.predict_proba(scaled_train_data[:10])"
      ],
      "execution_count": null,
      "outputs": []
    },
    {
      "cell_type": "code",
      "metadata": {
        "colab": {
          "base_uri": "https://localhost:8080/"
        },
        "id": "VmXQq0DS_F5L",
        "outputId": "a7c15dc0-e3f1-4854-9d19-a067b81d9d03"
      },
      "source": [
        "print(np.round(proba, decimals=2))\r\n",
        "#데이터가 로지스틱 다중 회귀에 맞추어져 있는것 같다."
      ],
      "execution_count": null,
      "outputs": [
        {
          "output_type": "stream",
          "text": [
            "[[1.   0.   0.  ]\n",
            " [1.   0.   0.  ]\n",
            " [0.   1.   0.  ]\n",
            " [1.   0.   0.  ]\n",
            " [0.   0.99 0.01]\n",
            " [0.01 0.99 0.  ]\n",
            " [0.   1.   0.  ]\n",
            " [1.   0.   0.  ]\n",
            " [0.   1.   0.  ]\n",
            " [0.   1.   0.  ]]\n"
          ],
          "name": "stdout"
        }
      ]
    },
    {
      "cell_type": "code",
      "metadata": {
        "id": "LSVw4eRr_RbE"
      },
      "source": [
        "#확률적 경사 하강법"
      ],
      "execution_count": null,
      "outputs": []
    },
    {
      "cell_type": "code",
      "metadata": {
        "colab": {
          "base_uri": "https://localhost:8080/"
        },
        "id": "lHuX8F2Xb9b4",
        "outputId": "da4350cd-cbb0-4e51-859e-b1027be45ec4"
      },
      "source": [
        "sc = SGDClassifier(loss='log', max_iter=10, random_state=42)\r\n",
        "sc.fit(scaled_train_data,train_target)\r\n",
        "print(sc.score(scaled_train_data,train_target))\r\n",
        "print(sc.score(scaled_test_data,test_target))\r\n"
      ],
      "execution_count": null,
      "outputs": [
        {
          "output_type": "stream",
          "text": [
            "1.0\n",
            "1.0\n"
          ],
          "name": "stdout"
        },
        {
          "output_type": "stream",
          "text": [
            "/usr/local/lib/python3.7/dist-packages/sklearn/linear_model/_stochastic_gradient.py:557: ConvergenceWarning: Maximum number of iteration reached before convergence. Consider increasing max_iter to improve the fit.\n",
            "  ConvergenceWarning)\n"
          ],
          "name": "stderr"
        }
      ]
    },
    {
      "cell_type": "code",
      "metadata": {
        "id": "kv0fL-ovcTSZ"
      },
      "source": [
        "dt = DecisionTreeClassifier(max_depth=15)"
      ],
      "execution_count": null,
      "outputs": []
    },
    {
      "cell_type": "code",
      "metadata": {
        "colab": {
          "base_uri": "https://localhost:8080/"
        },
        "id": "YTVAs5vngef4",
        "outputId": "67679637-e744-4b8e-c169-155ad40c3de6"
      },
      "source": [
        "dt.fit(scaled_train_data, train_target)"
      ],
      "execution_count": null,
      "outputs": [
        {
          "output_type": "execute_result",
          "data": {
            "text/plain": [
              "DecisionTreeClassifier(ccp_alpha=0.0, class_weight=None, criterion='gini',\n",
              "                       max_depth=15, max_features=None, max_leaf_nodes=None,\n",
              "                       min_impurity_decrease=0.0, min_impurity_split=None,\n",
              "                       min_samples_leaf=1, min_samples_split=2,\n",
              "                       min_weight_fraction_leaf=0.0, presort='deprecated',\n",
              "                       random_state=None, splitter='best')"
            ]
          },
          "metadata": {
            "tags": []
          },
          "execution_count": 67
        }
      ]
    },
    {
      "cell_type": "code",
      "metadata": {
        "colab": {
          "base_uri": "https://localhost:8080/"
        },
        "id": "1UnRBEGLgk4V",
        "outputId": "80ab25c9-a2b1-4a3f-fb2d-d1e1df0cf7dc"
      },
      "source": [
        "# 의사결정나무 훈련 41퍼 검증 37퍼.... depth를 15까지 높였더니 잘 나오긴 하지만 과대적합하다.\r\n",
        "print(dt.score(scaled_train_data,train_target))\r\n",
        "print(dt.score(scaled_test_data,test_target))"
      ],
      "execution_count": null,
      "outputs": [
        {
          "output_type": "stream",
          "text": [
            "1.0\n",
            "0.9333333333333333\n"
          ],
          "name": "stdout"
        }
      ]
    },
    {
      "cell_type": "code",
      "metadata": {
        "id": "wxXL3gHgkwRJ"
      },
      "source": [
        "from sklearn.tree import plot_tree"
      ],
      "execution_count": null,
      "outputs": []
    },
    {
      "cell_type": "code",
      "metadata": {
        "colab": {
          "base_uri": "https://localhost:8080/",
          "height": 1000
        },
        "id": "hK2vej7ikfRh",
        "outputId": "f5defe04-7ed7-4bf0-e7ea-6528de7ae561"
      },
      "source": [
        "plt.figure(figsize=(20,15))\r\n",
        "plot_tree(dt,filled=True,feature_names=wine.feature_names)"
      ],
      "execution_count": null,
      "outputs": [
        {
          "output_type": "execute_result",
          "data": {
            "text/plain": [
              "[Text(643.8461538461538, 747.4499999999999, 'proline <= 0.03\\ngini = 0.662\\nsamples = 133\\nvalue = [44, 51, 38]'),\n",
              " Text(343.38461538461536, 611.55, 'flavanoids <= -0.617\\ngini = 0.49\\nsamples = 82\\nvalue = [1, 49, 32]'),\n",
              " Text(171.69230769230768, 475.65, 'color_intensity <= -0.631\\ngini = 0.239\\nsamples = 36\\nvalue = [0, 5, 31]'),\n",
              " Text(85.84615384615384, 339.74999999999994, 'gini = 0.0\\nsamples = 5\\nvalue = [0, 5, 0]'),\n",
              " Text(257.53846153846155, 339.74999999999994, 'gini = 0.0\\nsamples = 31\\nvalue = [0, 0, 31]'),\n",
              " Text(515.0769230769231, 475.65, 'hue <= -1.309\\ngini = 0.084\\nsamples = 46\\nvalue = [1, 44, 1]'),\n",
              " Text(429.23076923076917, 339.74999999999994, 'gini = 0.0\\nsamples = 1\\nvalue = [0, 0, 1]'),\n",
              " Text(600.9230769230769, 339.74999999999994, 'alcohol <= 0.216\\ngini = 0.043\\nsamples = 45\\nvalue = [1, 44, 0]'),\n",
              " Text(515.0769230769231, 203.8499999999999, 'gini = 0.0\\nsamples = 42\\nvalue = [0, 42, 0]'),\n",
              " Text(686.7692307692307, 203.8499999999999, 'flavanoids <= 0.221\\ngini = 0.444\\nsamples = 3\\nvalue = [1, 2, 0]'),\n",
              " Text(600.9230769230769, 67.94999999999993, 'gini = 0.0\\nsamples = 2\\nvalue = [0, 2, 0]'),\n",
              " Text(772.6153846153845, 67.94999999999993, 'gini = 0.0\\nsamples = 1\\nvalue = [1, 0, 0]'),\n",
              " Text(944.3076923076923, 611.55, 'flavanoids <= 0.151\\ngini = 0.274\\nsamples = 51\\nvalue = [43, 2, 6]'),\n",
              " Text(858.4615384615383, 475.65, 'color_intensity <= -0.64\\ngini = 0.375\\nsamples = 8\\nvalue = [0, 2, 6]'),\n",
              " Text(772.6153846153845, 339.74999999999994, 'gini = 0.0\\nsamples = 2\\nvalue = [0, 2, 0]'),\n",
              " Text(944.3076923076923, 339.74999999999994, 'gini = 0.0\\nsamples = 6\\nvalue = [0, 0, 6]'),\n",
              " Text(1030.1538461538462, 475.65, 'gini = 0.0\\nsamples = 43\\nvalue = [43, 0, 0]')]"
            ]
          },
          "metadata": {
            "tags": []
          },
          "execution_count": 70
        },
        {
          "output_type": "display_data",
          "data": {
            "image/png": "[encoded data removed]",
            "text/plain": [
              "<Figure size 1440x1080 with 1 Axes>"
            ]
          },
          "metadata": {
            "tags": [],
            "needs_background": "light"
          }
        }
      ]
    },
    {
      "cell_type": "code",
      "metadata": {
        "id": "-cnkYfsanKAD"
      },
      "source": [
        "#교차검증중\r\n",
        "scores=cross_validate(dt,scaled_train_data,train_target)"
      ],
      "execution_count": null,
      "outputs": []
    },
    {
      "cell_type": "code",
      "metadata": {
        "colab": {
          "base_uri": "https://localhost:8080/"
        },
        "id": "JqFtRO0wnTD1",
        "outputId": "8a58e085-ca4f-4b38-a523-adc03575694e"
      },
      "source": [
        "print(scores)"
      ],
      "execution_count": null,
      "outputs": [
        {
          "output_type": "stream",
          "text": [
            "{'fit_time': array([0.00116611, 0.00087929, 0.00091267, 0.00093532, 0.00078273]), 'score_time': array([0.00050282, 0.00038028, 0.00050259, 0.00036836, 0.00043273]), 'test_score': array([0.92592593, 0.88888889, 0.88888889, 0.96153846, 0.88461538])}\n"
          ],
          "name": "stdout"
        }
      ]
    },
    {
      "cell_type": "code",
      "metadata": {
        "colab": {
          "base_uri": "https://localhost:8080/"
        },
        "id": "O9IjxjAwu9WB",
        "outputId": "ffbb42e5-46ac-4cb5-8d17-fa30bd736f7b"
      },
      "source": [
        "import numpy as np\r\n",
        "print(np.mean(scores['test_score']))"
      ],
      "execution_count": null,
      "outputs": [
        {
          "output_type": "stream",
          "text": [
            "0.90997150997151\n"
          ],
          "name": "stdout"
        }
      ]
    },
    {
      "cell_type": "code",
      "metadata": {
        "id": "B-f_Pid7vHxd"
      },
      "source": [
        "from sklearn.model_selection import StratifiedKFold"
      ],
      "execution_count": null,
      "outputs": []
    },
    {
      "cell_type": "code",
      "metadata": {
        "id": "e_gYAKvUvgkO"
      },
      "source": [
        "splitter = StratifiedKFold(n_splits=10,shuffle=True)\r\n",
        "scores = cross_validate(dt,train_data,train_target, cv =StratifiedKFold())"
      ],
      "execution_count": null,
      "outputs": []
    },
    {
      "cell_type": "code",
      "metadata": {
        "colab": {
          "base_uri": "https://localhost:8080/"
        },
        "id": "ZbaIGyb9vx_o",
        "outputId": "ad8eda02-1524-4206-b046-33e4232f6270"
      },
      "source": [
        "print(np.mean(scores['test_score']))"
      ],
      "execution_count": null,
      "outputs": [
        {
          "output_type": "stream",
          "text": [
            "0.9025641025641026\n"
          ],
          "name": "stdout"
        }
      ]
    }
  ]
}